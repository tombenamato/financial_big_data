{
 "cells": [
  {
   "cell_type": "markdown",
   "metadata": {
    "pycharm": {
     "name": "#%% md\n"
    }
   },
   "source": [
    "# Calibration of the Average Oracle eigenvalues\n",
    "\n",
    "2021-10-20\n",
    "\n",
    "author: Christian Bongiorno (christian.bongiorno@centralesupelec.fr)\n",
    "\n",
    "2023-01\n",
    "\n",
    "Adapted by Pau Autrand and Thomas Bienaimé for this project\n",
    "\n",
    "Note: the computation takes about a 2s."
   ]
  },
  {
   "cell_type": "code",
   "execution_count": 1,
   "metadata": {
    "pycharm": {
     "name": "#%%\n"
    }
   },
   "outputs": [],
   "source": [
    "import os\n",
    "# To speed up multiprocessing. Force numpy to work on a single thread\n",
    "os.environ[\"OMP_NUM_THREADS\"] = \"1\"\n",
    "from multiprocessing import Pool\n",
    "import matplotlib.pyplot as plt"
   ]
  },
  {
   "cell_type": "code",
   "execution_count": 2,
   "metadata": {
    "pycharm": {
     "name": "#%%\n"
    }
   },
   "outputs": [],
   "source": [
    "import numpy as np\n",
    "import pandas as pd\n",
    "import pickle"
   ]
  },
  {
   "cell_type": "code",
   "execution_count": 3,
   "metadata": {
    "pycharm": {
     "name": "#%%\n"
    }
   },
   "outputs": [],
   "source": [
    "def get_sortest_eig(C):\n",
    "    '''\n",
    "    input \n",
    "        C: correlation matrix\n",
    "        \n",
    "    output: \n",
    "        l: eigenvalues\n",
    "        v: eigenvectors \n",
    "    '''\n",
    "    \n",
    "    l,v = np.linalg.eigh(C)\n",
    "    ordn = np.argsort(l)\n",
    "    l,v = l[ordn],v[:,ordn]\n",
    "    return l,v"
   ]
  },
  {
   "cell_type": "code",
   "execution_count": 4,
   "metadata": {
    "pycharm": {
     "name": "#%%\n"
    }
   },
   "outputs": [],
   "source": [
    "def selectData(t,dtin,dtout):\n",
    "    '''\n",
    "    input \n",
    "        t: index of today\n",
    "        dtin: in-sample window size\n",
    "        dtout: out-of-sample window size\n",
    "    output\n",
    "        cin: in-sample correlation\n",
    "        cout: out-sample correlation\n",
    "    \n",
    "    '''\n",
    "    \n",
    "    c = C[:,:,t-dtin:t+dtout]\n",
    "\n",
    "    #Split in-sample and out-of-sample\n",
    "    cin,cout = c[:,:,:dtin],c[:,:,dtin:]\n",
    "\n",
    "    return cin,cout\n"
   ]
  },
  {
   "cell_type": "code",
   "execution_count": 5,
   "metadata": {
    "pycharm": {
     "name": "#%%\n"
    }
   },
   "outputs": [],
   "source": [
    "def get_Oracle(t):\n",
    "    '''\n",
    "    input\n",
    "        t: index of today\n",
    "\n",
    "\n",
    "    output:\n",
    "        oracle eigenvalues\n",
    "    '''\n",
    "    \n",
    "\n",
    "    #get in-sample and out-of-sample\n",
    "    cin,cout = selectData(t, 1,1)\n",
    "    \n",
    "    #compute correlation matrices\n",
    "    Cin,Cout = cin.mean(axis= 2),cout.mean(axis= 2)\n",
    "\n",
    "    #get eigenvalues and eigenvectos\n",
    "    l,v = get_sortest_eig(Cin)\n",
    "\n",
    "    #compute oracle\n",
    "    oracle = (v.T @ Cout @ v).diagonal()\n",
    "    return oracle"
   ]
  },
  {
   "cell_type": "code",
   "execution_count": 6,
   "metadata": {
    "pycharm": {
     "name": "#%%\n"
    }
   },
   "outputs": [],
   "source": [
    "\n",
    "def compute_AO(dtin,dtout,nbr_day, ncpu=None):\n",
    "\n",
    "\n",
    "    #Available days for the calibratios\n",
    "    avail_t = np.arange(dtin,Tmax-dtout)\n",
    "\n",
    "    # selection of all the inputs\n",
    "    conf_input = [t for t in avail_t]\n",
    "\n",
    "    p = Pool(processes=ncpu)\n",
    "    AO = p.map(get_Oracle,conf_input,chunksize=1000)\n",
    "    p.close()\n",
    "    \n",
    "    AO = [i for i in AO if not i is None]\n",
    "\n",
    "    # Average-Oracle eigenvalues\n",
    "    AO = np.mean(AO,axis=0)\n",
    "\n",
    "    print(AO)\n",
    "    return AO\n",
    "\n",
    "# you can now save the AO values"
   ]
  },
  {
   "cell_type": "code",
   "execution_count": 7,
   "metadata": {
    "pycharm": {
     "name": "#%%\n"
    }
   },
   "outputs": [
    {
     "data": {
      "text/plain": "1019"
     },
     "execution_count": 7,
     "metadata": {},
     "output_type": "execute_result"
    }
   ],
   "source": [
    "# Total number of days\n",
    "last_year_start_index = 257# from our data, we separated calibration for average oracle and use of it (4 year calibration, 1 year use (2022))\n",
    "with open('../data/allstocks_correlation.pickle', 'rb') as f:\n",
    "    C = pickle.load(f)[:,:,:-last_year_start_index]\n",
    "N=C.shape[0]\n",
    "Tmax = C.shape[2]\n",
    "Tmax"
   ]
  },
  {
   "cell_type": "code",
   "execution_count": 8,
   "outputs": [],
   "source": [
    "days_estimate = [1, 10, 50] #how many days you want to use in order to obtain your covariance estimates."
   ],
   "metadata": {
    "collapsed": false,
    "pycharm": {
     "name": "#%%\n"
    }
   }
  },
  {
   "cell_type": "code",
   "execution_count": 9,
   "outputs": [
    {
     "name": "stdout",
     "output_type": "stream",
     "text": [
      "[0.82811831 0.81192621 0.8090779  0.81713969 0.81421078 0.82418093\n",
      " 0.83661522 0.84327151 0.84745787 0.85149157 0.85545996 0.86281456\n",
      " 0.87147842 0.87446097 0.88133082 0.88613263 0.8954639  0.89570093\n",
      " 0.90710737 0.91574779 0.92347776 0.92986317 0.93486046 0.9468546\n",
      " 0.94796196 0.95839305 0.9610648  0.97336491 0.98597705 1.01499127\n",
      " 1.0444633  1.17384849 4.07569187]\n",
      "[0.82825783 0.81192369 0.80919569 0.81732214 0.81420978 0.82423589\n",
      " 0.83674442 0.84342691 0.84762038 0.85176195 0.8556565  0.86259842\n",
      " 0.87195838 0.87440796 0.88155225 0.88628833 0.89553533 0.89584442\n",
      " 0.90691145 0.91570988 0.92326839 0.9299243  0.93475916 0.94656743\n",
      " 0.94797712 0.95792969 0.961128   0.97325426 0.98583411 1.01469276\n",
      " 1.0446784  1.17419168 4.07463311]\n",
      "[0.83033449 0.81386693 0.81008185 0.82039903 0.81605097 0.82639341\n",
      " 0.83839596 0.84605454 0.85156208 0.8526504  0.85885276 0.86546745\n",
      " 0.87430952 0.8762352  0.8821206  0.88781856 0.89631268 0.89786632\n",
      " 0.90927707 0.91751132 0.92420959 0.93170493 0.93663254 0.94678179\n",
      " 0.94894461 0.95867926 0.96144156 0.97357756 0.98580281 1.01547357\n",
      " 1.04629107 1.1795794  4.01932016]\n"
     ]
    }
   ],
   "source": [
    "dtout=1\n",
    "\n",
    "for nbr_day in days_estimate:\n",
    "    dtin=nbr_day\n",
    "    file_AO= f\"../data/average_oracle_values/AO_Din{nbr_day}_N{N}-2018-2021.csv\"\n",
    "    AO = compute_AO(dtin,dtout, nbr_day)\n",
    "    pd.DataFrame( AO )\\\n",
    "        .to_csv(file_AO, index=False, header=False)"
   ],
   "metadata": {
    "collapsed": false,
    "pycharm": {
     "name": "#%%\n"
    }
   }
  },
  {
   "cell_type": "code",
   "execution_count": 9,
   "outputs": [],
   "source": [],
   "metadata": {
    "collapsed": false,
    "pycharm": {
     "name": "#%%\n"
    }
   }
  }
 ],
 "metadata": {
  "kernelspec": {
   "display_name": "Python 3 (ipykernel)",
   "language": "python",
   "name": "python3"
  },
  "language_info": {
   "codemirror_mode": {
    "name": "ipython",
    "version": 3
   },
   "file_extension": ".py",
   "mimetype": "text/x-python",
   "name": "python",
   "nbconvert_exporter": "python",
   "pygments_lexer": "ipython3",
   "version": "3.10.6"
  }
 },
 "nbformat": 4,
 "nbformat_minor": 4
}