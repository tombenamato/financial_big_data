{
 "cells": [
  {
   "cell_type": "markdown",
   "metadata": {
    "pycharm": {
     "name": "#%% md\n"
    }
   },
   "source": [
    "# Calibration of the Average Oracle eigenvalues\n",
    "\n",
    "2021-10-20\n",
    "\n",
    "author: Christian Bongiorno (christian.bongiorno@centralesupelec.fr)\n",
    "Adapted by Pau Autrand and Thomas Bienaimé for this project\n",
    "\n",
    "Note: the computation takes about a 2s."
   ]
  },
  {
   "cell_type": "code",
   "execution_count": 51,
   "metadata": {
    "pycharm": {
     "name": "#%%\n"
    }
   },
   "outputs": [],
   "source": [
    "import os\n",
    "# To speed up multiprocessing. Force numpy to work on a single thread\n",
    "os.environ[\"OMP_NUM_THREADS\"] = \"1\"\n",
    "from multiprocessing import Pool\n",
    "import matplotlib.pyplot as plt"
   ]
  },
  {
   "cell_type": "code",
   "execution_count": 52,
   "metadata": {
    "pycharm": {
     "name": "#%%\n"
    }
   },
   "outputs": [],
   "source": [
    "import numpy as np\n",
    "import pandas as pd\n",
    "import pickle"
   ]
  },
  {
   "cell_type": "code",
   "execution_count": 53,
   "metadata": {
    "pycharm": {
     "name": "#%%\n"
    }
   },
   "outputs": [],
   "source": [
    "def get_sortest_eig(C):\n",
    "    '''\n",
    "    input \n",
    "        C: correlation matrix\n",
    "        \n",
    "    output: \n",
    "        l: eigenvalues\n",
    "        v: eigenvectors \n",
    "    '''\n",
    "    \n",
    "    l,v = np.linalg.eigh(C)\n",
    "    ordn = np.argsort(l)\n",
    "    l,v = l[ordn],v[:,ordn]\n",
    "    return l,v"
   ]
  },
  {
   "cell_type": "code",
   "execution_count": 54,
   "metadata": {
    "pycharm": {
     "name": "#%%\n"
    }
   },
   "outputs": [],
   "source": [
    "def selectData(t,dtin,dtout,):\n",
    "    '''\n",
    "    input \n",
    "        t: index of today\n",
    "        dtin: in-sample window size\n",
    "        dtout: out-of-sample window size\n",
    "    output\n",
    "        cin: in-sample correlation\n",
    "        cout: out-sample correlation\n",
    "    \n",
    "    '''\n",
    "    \n",
    "    c = C[:,:,t-dtin:t+dtout]\n",
    "\n",
    "    #Split in-sample and out-of-sample\n",
    "    cin,cout = c[:,:,:dtin],c[:,:,dtin:]\n",
    "\n",
    "    return cin,cout\n"
   ]
  },
  {
   "cell_type": "code",
   "execution_count": 55,
   "metadata": {
    "pycharm": {
     "name": "#%%\n"
    }
   },
   "outputs": [],
   "source": [
    "def get_Oracle(t):\n",
    "    '''\n",
    "    input\n",
    "        t: index of today\n",
    "\n",
    "\n",
    "    output:\n",
    "        oracle eigenvalues\n",
    "    '''\n",
    "    \n",
    "\n",
    "    #get in-sample and out-of-sample\n",
    "    cin,cout = selectData(t, 1,1)\n",
    "    \n",
    "    #compute correlation matrices\n",
    "    Cin,Cout = cin[:,:,0],cout[:,:,0]\n",
    "\n",
    "    #get eigenvalues and eigenvectos\n",
    "    l,v = get_sortest_eig(Cin)\n",
    "\n",
    "    #compute oracle\n",
    "    oracle = (v.T @ Cout @ v).diagonal()\n",
    "    return oracle"
   ]
  },
  {
   "cell_type": "code",
   "execution_count": 56,
   "metadata": {
    "pycharm": {
     "name": "#%%\n"
    }
   },
   "outputs": [],
   "source": [
    "\n",
    "def compute_AO(dtin,dtout,ncpu=None):\n",
    "\n",
    "\n",
    "    #Available days for the calibratios\n",
    "    avail_t = np.arange(dtin,Tmax-dtout)\n",
    "\n",
    "    # selection of all the inputs\n",
    "    conf_input = [t for t in avail_t]\n",
    "\n",
    "    p = Pool(processes=ncpu)\n",
    "    AO = p.map(get_Oracle,conf_input,chunksize=1000)\n",
    "    p.close()\n",
    "    \n",
    "    AO = [i for i in AO if not i is None]\n",
    "\n",
    "    # Average-Oracle eigenvalues\n",
    "    AO = np.nanmean(AO,axis=0)\n",
    "\n",
    "    print(AO)\n",
    "    return AO\n",
    "\n",
    "# you can now save the AO values"
   ]
  },
  {
   "cell_type": "code",
   "execution_count": 57,
   "metadata": {
    "pycharm": {
     "name": "#%%\n"
    }
   },
   "outputs": [
    {
     "data": {
      "text/plain": "866"
     },
     "execution_count": 57,
     "metadata": {},
     "output_type": "execute_result"
    }
   ],
   "source": [
    "# Total number of days\n",
    "last_year_start_index = -257# from our data, we separated calibration for average oracle and use of it (4 year calibration, 1 year use (2022))\n",
    "with open('../data/allstocks_correlation.pickle', 'rb') as f:\n",
    "    C = pickle.load(f)[:,:,:last_year_start_index]\n",
    "Tmax = C.shape[2]\n",
    "Tmax = (Tmax*85)//100 #take 85% data to obtain average oracle\n",
    "Tmax"
   ]
  },
  {
   "cell_type": "code",
   "execution_count": 58,
   "metadata": {
    "pycharm": {
     "name": "#%%\n"
    }
   },
   "outputs": [
    {
     "data": {
      "text/plain": "33"
     },
     "execution_count": 58,
     "metadata": {},
     "output_type": "execute_result"
    }
   ],
   "source": [
    "N=C.shape[0] # or choose any fixed value\n",
    "N"
   ]
  },
  {
   "cell_type": "code",
   "execution_count": 59,
   "outputs": [
    {
     "name": "stdout",
     "output_type": "stream",
     "text": [
      "[0.83584979 0.81668341 0.8145342  0.82095916 0.81433646 0.82512308\n",
      " 0.83413734 0.84070549 0.84484508 0.84771816 0.85179381 0.85979779\n",
      " 0.86729106 0.87169289 0.87851656 0.88239558 0.89059653 0.89070808\n",
      " 0.9020965  0.91185598 0.91946512 0.92520947 0.93139761 0.94431868\n",
      " 0.94640136 0.95517777 0.95742562 0.97082556 0.98296382 1.0127625\n",
      " 1.04179951 1.15641257 4.15420347]\n"
     ]
    }
   ],
   "source": [
    "\n",
    "dtin=1\n",
    "dtout=1\n",
    "Nsamples=Tmax\n",
    "\n",
    "file_AO=\"AO_Tin35.csv\"\n",
    "\n",
    "AO = compute_AO(dtin,dtout)\n",
    "pd.DataFrame( AO )\\\n",
    "    .to_csv(file_AO)"
   ],
   "metadata": {
    "collapsed": false,
    "pycharm": {
     "name": "#%%\n"
    }
   }
  }
 ],
 "metadata": {
  "kernelspec": {
   "display_name": "Python 3 (ipykernel)",
   "language": "python",
   "name": "python3"
  },
  "language_info": {
   "codemirror_mode": {
    "name": "ipython",
    "version": 3
   },
   "file_extension": ".py",
   "mimetype": "text/x-python",
   "name": "python",
   "nbconvert_exporter": "python",
   "pygments_lexer": "ipython3",
   "version": "3.10.6"
  }
 },
 "nbformat": 4,
 "nbformat_minor": 4
}